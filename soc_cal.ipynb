{
 "cells": [
  {
   "cell_type": "code",
   "execution_count": 4,
   "metadata": {},
   "outputs": [],
   "source": [
    "from paho.mqtt import client as mqtt_client\n",
    "import time\n",
    "from dotenv import dotenv_values"
   ]
  },
  {
   "cell_type": "code",
   "execution_count": 5,
   "metadata": {},
   "outputs": [],
   "source": [
    "storage=[]\n",
    "imei_dict={}\n",
    "device_count=-1\n",
    "def convert_str_to_dict(data):\n",
    "    x=data.split(\",\")\n",
    "    l=[]\n",
    "    field,value=x[0][1:5:],int(x[0][6:-1:])\n",
    "    field=field[1:-1]\n",
    "    l.append(value)\n",
    "    for i in range(1,len(x)-1):\n",
    "        field,value=x[i].split(\":\")\n",
    "        field=field[1:-1]\n",
    "        if(value[0]!='\"'):\n",
    "            if(i==6):\n",
    "                value=int(value)\n",
    "            else:\n",
    "                value=float(value)\n",
    "        else:\n",
    "            value=value[1:-1]\n",
    "        l.append(value)\n",
    "    field,value=x[-1][0:4:],int(x[-1][5:6:])\n",
    "    field=field[1:-1]\n",
    "    value=int(value)\n",
    "    l.append(value)\n",
    "    return l\n",
    "def soc_calculator(EBV_value):\n",
    "    if(EBV_value>52.95):\n",
    "        return  90\n",
    "    elif(EBV_value>52.4):\n",
    "        return 80\n",
    "    elif(EBV_value>51.85):\n",
    "        return 70\n",
    "    elif(EBV_value>51.3):\n",
    "        return 60\n",
    "    elif(EBV_value>50.75):\n",
    "        return 50\n",
    "    elif(EBV_value>50.2):\n",
    "        return 40\n",
    "    elif(EBV_value>49.65):\n",
    "        return 30\n",
    "    elif(EBV_value>49):\n",
    "        return 20\n",
    "    elif(EBV_value>48.55):\n",
    "        return 10\n",
    "    elif(EBV_value>48):\n",
    "        return 0\n",
    "    else:\n",
    "        return -1\n",
    "    \n"
   ]
  },
  {
   "cell_type": "code",
   "execution_count": 6,
   "metadata": {},
   "outputs": [
    {
     "name": "stdout",
     "output_type": "stream",
     "text": [
      "emb/soc/869523059872433\n"
     ]
    }
   ],
   "source": [
    "\n",
    "# The callback for when the client receives a CONNACK response from the server.\n",
    "def on_connect(client, userdata, flags, rc):\n",
    "    #print(\"Connected with result code \"+str(rc))\n",
    "\n",
    "    # Subscribing in on_connect() means that if we lose the connection and\n",
    "    # reconnect then subscriptions will be renewed.\n",
    "    client.subscribe(\"emb/f2s/track/#\",0)\n",
    "# The callback for when a PUBLISH message is received from the server.\n",
    "def to_storage(x,device_count,client):\n",
    "    if(x[6]==0):\n",
    "        soc=soc_calculator(x[5])\n",
    "        x[10]=soc\n",
    "        if(x[1] not in imei_dict.keys()):\n",
    "            imei_dict[x[1]] = len(storage)\n",
    "            storage.append([])\n",
    "            storage[imei_dict[x[1]]].append(x)\n",
    "        else:\n",
    "            ping_count=len(storage[imei_dict[x[1]]])\n",
    "            if(ping_count<2):\n",
    "                storage[imei_dict[x[1]]].append(x)\n",
    "            else:\n",
    "                storage[imei_dict[x[1]]][0]=storage[imei_dict[x[1]]][1]\n",
    "                storage[imei_dict[x[1]]][1]=x\n",
    "        on_publish(client,x[1],x[10])\n",
    "def on_message(client, userdata, message):\n",
    "    #print(\"#\")\n",
    "    #print(message.topic+\" \"+str(message.payload))\n",
    "    x=convert_str_to_dict(str(message.payload.decode('utf-8')))\n",
    "    #print(\"#\",x)\n",
    "    to_storage(x,device_count,client)\n",
    "    #print(storage)\n",
    "def on_publish(client,imei,soc):\n",
    "        topic=\"emb/soc/\"+imei\n",
    "        print(topic)\n",
    "        info=client.publish(topic=topic,payload=soc,qos=0)\n",
    "\n",
    "secrets= dotenv_values(\".env\")\n",
    "\n",
    "\n",
    "broker_address = secrets[\"broker_address\"]  \n",
    "port = int(secrets[\"port\"])                         \n",
    "user = secrets[\"user_name\"]                 \n",
    "password = secrets[\"Password\"]           \n",
    "\n",
    "client = mqtt_client.Client(\"trial\")\n",
    "client.username_pw_set(user, password=password)\n",
    "client.on_connect = on_connect\n",
    "client.on_message = on_message\n",
    "\n",
    "\n",
    "\n",
    "client.connect(broker_address, port)\n",
    "client.loop_start()\n",
    "#client.subscribe(\"emb/f2s/track/#\",0)\n",
    "# Blocking call that processes network traffic, dispatches callbacks and\n",
    "# handles reconnecting.\n",
    "# Other loop*() functions are available that give a threaded interface and a\n",
    "# manual interface.\n",
    "\n",
    "time.sleep(300)\n",
    "client.loop_stop()"
   ]
  },
  {
   "cell_type": "code",
   "execution_count": null,
   "metadata": {},
   "outputs": [
    {
     "name": "stdout",
     "output_type": "stream",
     "text": [
      "{'863005061009465': 0, '869523059853011': 1, '869523059854613': 2, '869523059854514': 3, '863005061001322': 4, '869523059873415': 5, '863005061009499': 6, '863005061009598': 7, '863005060984627': 8}\n",
      "[[[168864920, '863005061009465', 31.0, 77.65028, 12.879769, 53.12, 0, 1561.71, 11.8, '000000000000', 90, 0.0, 4], [168864932, '863005061009465', 30.0, 77.650283, 12.879765, 53.12, 0, 1561.71, 11.8, '000000000000', 90, 0.0, 4]], [[168864921, '869523059853011', 9.0, 77.649214, 12.916753, 0.7, 0, 8.65, 10.9, '000000000000', -1, 0.0, 4], [168864933, '869523059853011', 9.0, 77.649214, 12.916753, 0.7, 0, 8.65, 10.9, '000000000000', -1, 0.0, 4]], [[168864922, '869523059854613', 23.0, 77.650262, 12.908942, 0.72, 0, 0.11, 11.9, '000101160301', -1, 100.0, 4], [168864934, '869523059854613', 20.0, 77.650262, 12.908942, 0.72, 0, 0.11, 11.9, '000101160301', -1, 100.0, 4]], [[168864910, '869523059854514', 19.0, 0.0, 0.0, 0.7, 0, 0.19, 11.6, '000000000000', -1, 0.0, 4]], [[168864912, '863005061001322', 19.0, 77.72435, 12.952222, 53.6, 0, 1236.36, 12.4, '000000000000', 90, 0.0, 4], [168864924, '863005061001322', 17.0, 77.724352, 12.952116, 53.6, 0, 1236.36, 12.4, '000000000000', 90, 0.0, 4]], [[94670463, '869523059873415', 13.0, 0.0, 0.0, 53.13, 0, 0.0, 11.9, 1.0, 90, 0.0, 0.0, 4]], [[168864914, '863005061009499', 18.0, 77.650205, 12.908722, 53.22, 0, 0.64, 11.9, 1.0, 90, 99.0, 100.0, 4], [168864926, '863005061009499', 22.0, 77.650205, 12.908722, 53.28, 0, 0.64, 12.0, '000101160301', 90, 100.0, 4]], [[168864923, '863005061009598', 8.0, 0.0, 0.0, 53.18, 0, 0.82, 11.8, '000000000000', 90, 0.0, 4], [168864935, '863005061009598', 8.0, 0.0, 0.0, 53.18, 0, 0.82, 11.8, '000000000000', 90, 0.0, 4]], [[168864917, '863005060984627', 21.0, 77.642113, 12.902999, 52.72, 0, 36.08, 12.5, '000000000000', 80, 0.0, 4], [168864929, '863005060984627', 20.0, 77.642113, 12.902999, 52.72, 0, 36.08, 12.5, '000000000000', 80, 0.0, 4]]]\n"
     ]
    }
   ],
   "source": [
    "\n",
    "print(imei_dict)\n",
    "print(storage)\n"
   ]
  }
 ],
 "metadata": {
  "interpreter": {
   "hash": "409924516aa2d505d3d287c54696105963d6e34d985a0729d4b4c301b5b51230"
  },
  "kernelspec": {
   "display_name": "Python 3.10.1 64-bit",
   "language": "python",
   "name": "python3"
  },
  "language_info": {
   "codemirror_mode": {
    "name": "ipython",
    "version": 3
   },
   "file_extension": ".py",
   "mimetype": "text/x-python",
   "name": "python",
   "nbconvert_exporter": "python",
   "pygments_lexer": "ipython3",
   "version": "3.10.1"
  },
  "orig_nbformat": 4
 },
 "nbformat": 4,
 "nbformat_minor": 2
}
